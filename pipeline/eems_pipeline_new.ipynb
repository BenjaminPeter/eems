{
 "metadata": {
  "name": "",
  "signature": "sha256:65fcf3cdcf095d26e6c6b70f8bc0d77759e2705145cea1f969ab515c574645e0"
 },
 "nbformat": 3,
 "nbformat_minor": 0,
 "worksheets": [
  {
   "cells": [
    {
     "cell_type": "code",
     "collapsed": false,
     "input": [
      "%matplotlib inline\n",
      "%load_ext autoreload\n",
      "%autoreload 2\n",
      "\n",
      "from __future__ import print_function\n",
      "\n",
      "import pandas as pd\n",
      "import numpy as np\n",
      "import os, sys\n",
      "import matplotlib.pyplot as plt\n",
      "pd.set_option( 'display.max_rows', 4 )"
     ],
     "language": "python",
     "metadata": {},
     "outputs": [],
     "prompt_number": 1
    },
    {
     "cell_type": "code",
     "collapsed": false,
     "input": [
      "from pipeline.parameters import Parameters\n",
      "from pipeline.load import load_location_file, load_sample_file\n",
      "from pipeline.polygon import filter_individuals_based_on_location, get_polygon, write_all_files, run_all"
     ],
     "language": "python",
     "metadata": {},
     "outputs": [],
     "prompt_number": 3
    },
    {
     "cell_type": "code",
     "collapsed": false,
     "input": [
      "p = dict()\n",
      "p['loc'] = 'human_origins_loc.csv'\n",
      "p['sample'] = 'human_origins.csv'\n",
      "p['bed'] = 'example'\n",
      "p['n_burn'] = 5000\n",
      "p['n_mcmc'] = 20000\n",
      "p['diffs'] = 'current'\n",
      "p['dry'] = False\n",
      "p['nDemes'] = [1000]\n",
      "p['polygon'] = 'example.polygon'\n",
      "p['input_folder'] = './example_out/input'\n",
      "p['output_folder'] = './example_out/output'\n",
      "p['proj'] = 'nb_test'\n",
      "p['data_folder'] = './example/'"
     ],
     "language": "python",
     "metadata": {},
     "outputs": [],
     "prompt_number": 35
    },
    {
     "cell_type": "code",
     "collapsed": false,
     "input": [
      "params = Parameters.create_from_dict(p,defaults=True)"
     ],
     "language": "python",
     "metadata": {},
     "outputs": [],
     "prompt_number": 36
    },
    {
     "cell_type": "code",
     "collapsed": false,
     "input": [
      "params.bed = params.data_folder + params.bed\n",
      "if params.diffs is not None:\n",
      "    params.diffs = params.data_folder + params.diffs\n",
      "params.bed"
     ],
     "language": "python",
     "metadata": {},
     "outputs": [
      {
       "metadata": {},
       "output_type": "pyout",
       "prompt_number": 37,
       "text": [
        "'./example/example'"
       ]
      }
     ],
     "prompt_number": 37
    },
    {
     "cell_type": "code",
     "collapsed": false,
     "input": [
      "location_data = load_location_file(params.loc, params.location_header)\n",
      "sample_data = load_sample_file(params.sample, params.sample_header)"
     ],
     "language": "python",
     "metadata": {},
     "outputs": [],
     "prompt_number": 38
    },
    {
     "cell_type": "code",
     "collapsed": false,
     "input": [
      "location_data"
     ],
     "language": "python",
     "metadata": {},
     "outputs": [
      {
       "html": [
        "<div style=\"max-height:1000px;max-width:1500px;overflow:auto;\">\n",
        "<table border=\"1\" class=\"dataframe\">\n",
        "  <thead>\n",
        "    <tr style=\"text-align: right;\">\n",
        "      <th></th>\n",
        "      <th>POP</th>\n",
        "      <th>LAT</th>\n",
        "      <th>LONG</th>\n",
        "    </tr>\n",
        "  </thead>\n",
        "  <tbody>\n",
        "    <tr>\n",
        "      <th>0   </th>\n",
        "      <td>             Khomani</td>\n",
        "      <td>-27.8</td>\n",
        "      <td>  21.1</td>\n",
        "    </tr>\n",
        "    <tr>\n",
        "      <th>11  </th>\n",
        "      <td>      Yukagir_Tundra</td>\n",
        "      <td> 68.6</td>\n",
        "      <td> 153.0</td>\n",
        "    </tr>\n",
        "    <tr>\n",
        "      <th>...</th>\n",
        "      <td>...</td>\n",
        "      <td>...</td>\n",
        "      <td>...</td>\n",
        "    </tr>\n",
        "    <tr>\n",
        "      <th>1933</th>\n",
        "      <td> Bolivian_Cochabamba</td>\n",
        "      <td>-17.4</td>\n",
        "      <td> 293.8</td>\n",
        "    </tr>\n",
        "    <tr>\n",
        "      <th>1934</th>\n",
        "      <td>               Aleut</td>\n",
        "      <td> 53.6</td>\n",
        "      <td> 160.8</td>\n",
        "    </tr>\n",
        "  </tbody>\n",
        "</table>\n",
        "<p>198 rows \u00d7 3 columns</p>\n",
        "</div>"
       ],
       "metadata": {},
       "output_type": "pyout",
       "prompt_number": 39,
       "text": [
        "                      POP   LAT   LONG\n",
        "0                 Khomani -27.8   21.1\n",
        "11         Yukagir_Tundra  68.6  153.0\n",
        "...                   ...   ...    ...\n",
        "1933  Bolivian_Cochabamba -17.4  293.8\n",
        "1934                Aleut  53.6  160.8\n",
        "\n",
        "[198 rows x 3 columns]"
       ]
      }
     ],
     "prompt_number": 39
    },
    {
     "cell_type": "code",
     "collapsed": false,
     "input": [
      "sample_data"
     ],
     "language": "python",
     "metadata": {},
     "outputs": [
      {
       "html": [
        "<div style=\"max-height:1000px;max-width:1500px;overflow:auto;\">\n",
        "<table border=\"1\" class=\"dataframe\">\n",
        "  <thead>\n",
        "    <tr style=\"text-align: right;\">\n",
        "      <th></th>\n",
        "      <th>IND</th>\n",
        "      <th>POP</th>\n",
        "    </tr>\n",
        "  </thead>\n",
        "  <tbody>\n",
        "    <tr>\n",
        "      <th>0   </th>\n",
        "      <td> SA1004</td>\n",
        "      <td> Khomani</td>\n",
        "    </tr>\n",
        "    <tr>\n",
        "      <th>1   </th>\n",
        "      <td>  SA063</td>\n",
        "      <td> Khomani</td>\n",
        "    </tr>\n",
        "    <tr>\n",
        "      <th>...</th>\n",
        "      <td>...</td>\n",
        "      <td>...</td>\n",
        "    </tr>\n",
        "    <tr>\n",
        "      <th>1939</th>\n",
        "      <td>  Ale22</td>\n",
        "      <td>   Aleut</td>\n",
        "    </tr>\n",
        "    <tr>\n",
        "      <th>1940</th>\n",
        "      <td>  Ale36</td>\n",
        "      <td>   Aleut</td>\n",
        "    </tr>\n",
        "  </tbody>\n",
        "</table>\n",
        "<p>1941 rows \u00d7 2 columns</p>\n",
        "</div>"
       ],
       "metadata": {},
       "output_type": "pyout",
       "prompt_number": 40,
       "text": [
        "         IND      POP\n",
        "0     SA1004  Khomani\n",
        "1      SA063  Khomani\n",
        "...      ...      ...\n",
        "1939   Ale22    Aleut\n",
        "1940   Ale36    Aleut\n",
        "\n",
        "[1941 rows x 2 columns]"
       ]
      }
     ],
     "prompt_number": 40
    },
    {
     "cell_type": "code",
     "collapsed": false,
     "input": [
      "meta_data = sample_data.merge(location_data)                          \n",
      "polygon = get_polygon(params.data_folder+params.polygon, wrap=params.wrap)                   \n",
      "meta_data = filter_individuals_based_on_location(meta_data, polygon)  "
     ],
     "language": "python",
     "metadata": {},
     "outputs": [],
     "prompt_number": 41
    },
    {
     "cell_type": "code",
     "collapsed": false,
     "input": [
      "meta_data"
     ],
     "language": "python",
     "metadata": {},
     "outputs": [
      {
       "html": [
        "<div style=\"max-height:1000px;max-width:1500px;overflow:auto;\">\n",
        "<table border=\"1\" class=\"dataframe\">\n",
        "  <thead>\n",
        "    <tr style=\"text-align: right;\">\n",
        "      <th></th>\n",
        "      <th>IND</th>\n",
        "      <th>POP</th>\n",
        "      <th>LAT</th>\n",
        "      <th>LONG</th>\n",
        "      <th>POINTS</th>\n",
        "    </tr>\n",
        "  </thead>\n",
        "  <tbody>\n",
        "    <tr>\n",
        "      <th>343 </th>\n",
        "      <td>  HGDP00511</td>\n",
        "      <td>        French</td>\n",
        "      <td> 46.0</td>\n",
        "      <td>  2.0</td>\n",
        "      <td>      POINT (46 2)</td>\n",
        "    </tr>\n",
        "    <tr>\n",
        "      <th>344 </th>\n",
        "      <td>  HGDP00512</td>\n",
        "      <td>        French</td>\n",
        "      <td> 46.0</td>\n",
        "      <td>  2.0</td>\n",
        "      <td>      POINT (46 2)</td>\n",
        "    </tr>\n",
        "    <tr>\n",
        "      <th>...</th>\n",
        "      <td>...</td>\n",
        "      <td>...</td>\n",
        "      <td>...</td>\n",
        "      <td>...</td>\n",
        "      <td>...</td>\n",
        "    </tr>\n",
        "    <tr>\n",
        "      <th>1922</th>\n",
        "      <td> Aydin18483</td>\n",
        "      <td> Turkish_Aydin</td>\n",
        "      <td> 37.9</td>\n",
        "      <td> 27.8</td>\n",
        "      <td> POINT (37.9 27.8)</td>\n",
        "    </tr>\n",
        "    <tr>\n",
        "      <th>1923</th>\n",
        "      <td> Aydin18419</td>\n",
        "      <td> Turkish_Aydin</td>\n",
        "      <td> 37.9</td>\n",
        "      <td> 27.8</td>\n",
        "      <td> POINT (37.9 27.8)</td>\n",
        "    </tr>\n",
        "  </tbody>\n",
        "</table>\n",
        "<p>398 rows \u00d7 5 columns</p>\n",
        "</div>"
       ],
       "metadata": {},
       "output_type": "pyout",
       "prompt_number": 42,
       "text": [
        "             IND            POP   LAT  LONG             POINTS\n",
        "343    HGDP00511         French  46.0   2.0       POINT (46 2)\n",
        "344    HGDP00512         French  46.0   2.0       POINT (46 2)\n",
        "...          ...            ...   ...   ...                ...\n",
        "1922  Aydin18483  Turkish_Aydin  37.9  27.8  POINT (37.9 27.8)\n",
        "1923  Aydin18419  Turkish_Aydin  37.9  27.8  POINT (37.9 27.8)\n",
        "\n",
        "[398 rows x 5 columns]"
       ]
      }
     ],
     "prompt_number": 42
    },
    {
     "cell_type": "code",
     "collapsed": false,
     "input": [
      "write_all_files(params, meta_data, polygon)"
     ],
     "language": "python",
     "metadata": {},
     "outputs": [
      {
       "output_type": "stream",
       "stream": "stdout",
       "text": [
        "filtering\n"
       ]
      }
     ],
     "prompt_number": 43
    },
    {
     "cell_type": "code",
     "collapsed": false,
     "input": [
      "run_all(params)"
     ],
     "language": "python",
     "metadata": {},
     "outputs": []
    },
    {
     "cell_type": "code",
     "collapsed": false,
     "input": [],
     "language": "python",
     "metadata": {},
     "outputs": []
    }
   ],
   "metadata": {}
  }
 ]
}